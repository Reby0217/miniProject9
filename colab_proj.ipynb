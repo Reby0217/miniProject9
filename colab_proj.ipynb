{
  "cells": [
    {
      "cell_type": "markdown",
      "metadata": {
        "id": "view-in-github",
        "colab_type": "text"
      },
      "source": [
        "<a href=\"https://colab.research.google.com/github/Reby0217/miniProject9/blob/main/colab_proj.ipynb\" target=\"_parent\"><img src=\"https://colab.research.google.com/assets/colab-badge.svg\" alt=\"Open In Colab\"/></a>"
      ]
    },
    {
      "cell_type": "code",
      "source": [
        "import pandas as pd\n",
        "import matplotlib.pyplot as plt\n",
        "import seaborn as sns"
      ],
      "metadata": {
        "id": "NP2qZLv7A3on"
      },
      "execution_count": 1,
      "outputs": []
    },
    {
      "cell_type": "code",
      "source": [
        "# mount the drive\n",
        "from google.colab import drive\n",
        "drive.mount('/content/drive')"
      ],
      "metadata": {
        "id": "i_P-93qABeOk",
        "outputId": "a45597c4-fc8d-47e5-a192-b8a93a6cacc7",
        "colab": {
          "base_uri": "https://localhost:8080/"
        }
      },
      "execution_count": 2,
      "outputs": [
        {
          "output_type": "stream",
          "name": "stdout",
          "text": [
            "Mounted at /content/drive\n"
          ]
        }
      ]
    },
    {
      "cell_type": "code",
      "source": [
        "def validate_dataframe(df: pd.DataFrame, required_columns: list):\n",
        "    \"\"\"\n",
        "    Validates the given DataFrame for the following:\n",
        "    - Checks if the DataFrame is empty.\n",
        "    - Ensures required columns are present in the DataFrame.\n",
        "\n",
        "    Args:\n",
        "    - df (pd.DataFrame): The dataset as a DataFrame.\n",
        "    - required_columns (list): List of required columns to check.\n",
        "\n",
        "    Raises:\n",
        "    - ValueError: If the DataFrame is empty.\n",
        "    - KeyError: If any required column is missing.\n",
        "    \"\"\"\n",
        "    if df.empty:\n",
        "        raise ValueError(\"The DataFrame is empty.\")\n",
        "\n",
        "    missing_columns = [col for col in required_columns if col not in df.columns]\n",
        "    if missing_columns:\n",
        "        raise KeyError(f\"Missing columns: {', '.join(missing_columns)}\")\n"
      ],
      "metadata": {
        "id": "NQBVNWCxA5VA"
      },
      "execution_count": 3,
      "outputs": []
    },
    {
      "cell_type": "code",
      "source": [
        "def read_data(filepath: str) -> pd.DataFrame:\n",
        "    \"\"\"\n",
        "    Reads the dataset from the given file path and returns a pandas DataFrame.\n",
        "\n",
        "    Args:\n",
        "    - filepath (str): The path to the CSV file.\n",
        "\n",
        "    Returns:\n",
        "    - pd.DataFrame: The dataset.\n",
        "    \"\"\"\n",
        "    return pd.read_csv(filepath)"
      ],
      "metadata": {
        "id": "7PbjSTmBA5Yt"
      },
      "execution_count": 4,
      "outputs": []
    },
    {
      "cell_type": "code",
      "source": [
        "def get_descriptive_statistics(df: pd.DataFrame) -> pd.DataFrame:\n",
        "    \"\"\"\n",
        "    Returns the descriptive statistics of the given dataset.\n",
        "\n",
        "    Args:\n",
        "    - df (pd.DataFrame): The dataset as a DataFrame.\n",
        "\n",
        "    Returns:\n",
        "    - pd.DataFrame: Descriptive statistics of the dataset.\n",
        "\n",
        "    Raises:\n",
        "    - KeyError: If the 'Net Worth (in billions)' column is missing.\n",
        "    - ValueError: If the DataFrame is empty.\n",
        "    \"\"\"\n",
        "    validate_dataframe(df, [\"Net Worth (in billions)\"])\n",
        "    return df.describe()"
      ],
      "metadata": {
        "id": "erf7NOTvBAXJ"
      },
      "execution_count": 5,
      "outputs": []
    },
    {
      "cell_type": "code",
      "source": [
        "def get_industry_avg_net_worth(df: pd.DataFrame) -> pd.Series:\n",
        "    \"\"\"\n",
        "    Groups the data by Industry and calculates the average net worth.\n",
        "\n",
        "    Args:\n",
        "    - df (pd.DataFrame): The dataset as a DataFrame.\n",
        "\n",
        "    Returns:\n",
        "    - pd.Series: A series with the average net worth for each industry.\n",
        "    \"\"\"\n",
        "    validate_dataframe(df, [\"Industry\", \"Net Worth (in billions)\"])\n",
        "    return df.groupby(\"Industry\")[\"Net Worth (in billions)\"].mean()"
      ],
      "metadata": {
        "id": "uz5h83KTBDoF"
      },
      "execution_count": 6,
      "outputs": []
    },
    {
      "cell_type": "code",
      "source": [
        "def calculate_skewness_kurtosis(df: pd.DataFrame) -> tuple:\n",
        "    \"\"\"\n",
        "    Calculates the skewness and kurtosis of the net worth distribution.\n",
        "\n",
        "    Args:\n",
        "    - df (pd.DataFrame): The dataset as a DataFrame.\n",
        "\n",
        "    Returns:\n",
        "    - tuple: A tuple containing the skewness and kurtosis values.\n",
        "    \"\"\"\n",
        "    validate_dataframe(df, [\"Net Worth (in billions)\"])\n",
        "    skewness = df[\"Net Worth (in billions)\"].skew()\n",
        "    kurtosis = df[\"Net Worth (in billions)\"].kurtosis()\n",
        "    print(\"Skewness:\", skewness, \"Kurtosis:\", kurtosis)\n",
        "    return skewness, kurtosis\n"
      ],
      "metadata": {
        "id": "LauPd8fNBDrA"
      },
      "execution_count": 7,
      "outputs": []
    },
    {
      "cell_type": "code",
      "source": [
        "def plot_industry_avg_net_worth(industry_avg: pd.Series):\n",
        "    \"\"\"\n",
        "    Plots the average net worth by industry using a bar plot.\n",
        "\n",
        "    Args:\n",
        "    - industry_avg (pd.Series): A series with the average net worth for each industry.\n",
        "    \"\"\"\n",
        "    if industry_avg.empty:\n",
        "        raise ValueError(\"No data to plot for average net worth.\")\n",
        "\n",
        "    # Generate a color palette with as many colors as there are industries\n",
        "    colors = sns.color_palette(\"husl\", len(industry_avg))\n",
        "\n",
        "    plt.figure(figsize=(10, 6))\n",
        "    sns.barplot(x=industry_avg.index, y=industry_avg.values, palette=colors, hue=industry_avg.index)\n",
        "    plt.xlabel(\"Industry\")\n",
        "    plt.title(\"Average Net Worth by Industry\")\n",
        "    plt.xticks(rotation=90)\n",
        "    plt.ylabel(\"Net Worth (in billions)\")\n",
        "    plt.show()\n"
      ],
      "metadata": {
        "id": "trpJbxEUBDtn"
      },
      "execution_count": 8,
      "outputs": []
    },
    {
      "cell_type": "code",
      "source": [
        "def plot_net_worth_distribution_by_industry(df: pd.DataFrame):\n",
        "    \"\"\"\n",
        "    Plots a boxplot showing the distribution of net worth by industry.\n",
        "\n",
        "    Args:\n",
        "    - df (pd.DataFrame): The dataset as a DataFrame.\n",
        "    \"\"\"\n",
        "    validate_dataframe(df, [\"Industry\", \"Net Worth (in billions)\"])\n",
        "    colors = sns.color_palette(\"husl\", len(df[\"Industry\"].unique()))\n",
        "\n",
        "    plt.figure(figsize=(10, 6))\n",
        "    sns.boxplot(x=\"Industry\", y=\"Net Worth (in billions)\", data=df, palette=colors, hue= df[\"Industry\"])\n",
        "    plt.title(\"Net Worth Distribution by Industry\")\n",
        "    plt.xticks(rotation=90)\n",
        "    plt.ylabel(\"Net Worth (in billions)\")\n",
        "    plt.show()\n"
      ],
      "metadata": {
        "id": "-4eqTsi1BJBB"
      },
      "execution_count": 9,
      "outputs": []
    },
    {
      "cell_type": "markdown",
      "metadata": {
        "id": "NBV6TZM4Awaf"
      },
      "source": [
        "### Load dataset"
      ]
    },
    {
      "cell_type": "code",
      "execution_count": 10,
      "metadata": {
        "id": "sLvrY6gVAwag"
      },
      "outputs": [],
      "source": [
        "dataset_path = \"/content/drive/MyDrive/Top_1000_wealthiest_people.csv\"\n",
        "df = read_data(dataset_path)"
      ]
    },
    {
      "cell_type": "markdown",
      "metadata": {
        "id": "mMrtGxLfAwag"
      },
      "source": [
        "### Display the first few rows"
      ]
    },
    {
      "cell_type": "code",
      "execution_count": 11,
      "metadata": {
        "id": "vOvXKORGAwag",
        "outputId": "16b8e351-04c7-4b16-8bfe-2e47ff683910",
        "colab": {
          "base_uri": "https://localhost:8080/",
          "height": 206
        }
      },
      "outputs": [
        {
          "output_type": "execute_result",
          "data": {
            "text/plain": [
              "            Name Country       Industry  Net Worth (in billions)  \\\n",
              "0     Rob Walton  Mexico        Finance                     8.50   \n",
              "1    Sergey Brin     USA     Automotive                    44.76   \n",
              "2  Steve Ballmer     USA  Manufacturing                    13.43   \n",
              "3  Mukesh Ambani     USA     Technology                   120.44   \n",
              "4     Jim Walton     USA        Fashion                   122.39   \n",
              "\n",
              "           Company  \n",
              "0          Walmart  \n",
              "1           Google  \n",
              "2  Koch Industries  \n",
              "3           Google  \n",
              "4          Walmart  "
            ],
            "text/html": [
              "\n",
              "  <div id=\"df-fc1feac7-6e9a-4a61-a276-3f7da8ad0672\" class=\"colab-df-container\">\n",
              "    <div>\n",
              "<style scoped>\n",
              "    .dataframe tbody tr th:only-of-type {\n",
              "        vertical-align: middle;\n",
              "    }\n",
              "\n",
              "    .dataframe tbody tr th {\n",
              "        vertical-align: top;\n",
              "    }\n",
              "\n",
              "    .dataframe thead th {\n",
              "        text-align: right;\n",
              "    }\n",
              "</style>\n",
              "<table border=\"1\" class=\"dataframe\">\n",
              "  <thead>\n",
              "    <tr style=\"text-align: right;\">\n",
              "      <th></th>\n",
              "      <th>Name</th>\n",
              "      <th>Country</th>\n",
              "      <th>Industry</th>\n",
              "      <th>Net Worth (in billions)</th>\n",
              "      <th>Company</th>\n",
              "    </tr>\n",
              "  </thead>\n",
              "  <tbody>\n",
              "    <tr>\n",
              "      <th>0</th>\n",
              "      <td>Rob Walton</td>\n",
              "      <td>Mexico</td>\n",
              "      <td>Finance</td>\n",
              "      <td>8.50</td>\n",
              "      <td>Walmart</td>\n",
              "    </tr>\n",
              "    <tr>\n",
              "      <th>1</th>\n",
              "      <td>Sergey Brin</td>\n",
              "      <td>USA</td>\n",
              "      <td>Automotive</td>\n",
              "      <td>44.76</td>\n",
              "      <td>Google</td>\n",
              "    </tr>\n",
              "    <tr>\n",
              "      <th>2</th>\n",
              "      <td>Steve Ballmer</td>\n",
              "      <td>USA</td>\n",
              "      <td>Manufacturing</td>\n",
              "      <td>13.43</td>\n",
              "      <td>Koch Industries</td>\n",
              "    </tr>\n",
              "    <tr>\n",
              "      <th>3</th>\n",
              "      <td>Mukesh Ambani</td>\n",
              "      <td>USA</td>\n",
              "      <td>Technology</td>\n",
              "      <td>120.44</td>\n",
              "      <td>Google</td>\n",
              "    </tr>\n",
              "    <tr>\n",
              "      <th>4</th>\n",
              "      <td>Jim Walton</td>\n",
              "      <td>USA</td>\n",
              "      <td>Fashion</td>\n",
              "      <td>122.39</td>\n",
              "      <td>Walmart</td>\n",
              "    </tr>\n",
              "  </tbody>\n",
              "</table>\n",
              "</div>\n",
              "    <div class=\"colab-df-buttons\">\n",
              "\n",
              "  <div class=\"colab-df-container\">\n",
              "    <button class=\"colab-df-convert\" onclick=\"convertToInteractive('df-fc1feac7-6e9a-4a61-a276-3f7da8ad0672')\"\n",
              "            title=\"Convert this dataframe to an interactive table.\"\n",
              "            style=\"display:none;\">\n",
              "\n",
              "  <svg xmlns=\"http://www.w3.org/2000/svg\" height=\"24px\" viewBox=\"0 -960 960 960\">\n",
              "    <path d=\"M120-120v-720h720v720H120Zm60-500h600v-160H180v160Zm220 220h160v-160H400v160Zm0 220h160v-160H400v160ZM180-400h160v-160H180v160Zm440 0h160v-160H620v160ZM180-180h160v-160H180v160Zm440 0h160v-160H620v160Z\"/>\n",
              "  </svg>\n",
              "    </button>\n",
              "\n",
              "  <style>\n",
              "    .colab-df-container {\n",
              "      display:flex;\n",
              "      gap: 12px;\n",
              "    }\n",
              "\n",
              "    .colab-df-convert {\n",
              "      background-color: #E8F0FE;\n",
              "      border: none;\n",
              "      border-radius: 50%;\n",
              "      cursor: pointer;\n",
              "      display: none;\n",
              "      fill: #1967D2;\n",
              "      height: 32px;\n",
              "      padding: 0 0 0 0;\n",
              "      width: 32px;\n",
              "    }\n",
              "\n",
              "    .colab-df-convert:hover {\n",
              "      background-color: #E2EBFA;\n",
              "      box-shadow: 0px 1px 2px rgba(60, 64, 67, 0.3), 0px 1px 3px 1px rgba(60, 64, 67, 0.15);\n",
              "      fill: #174EA6;\n",
              "    }\n",
              "\n",
              "    .colab-df-buttons div {\n",
              "      margin-bottom: 4px;\n",
              "    }\n",
              "\n",
              "    [theme=dark] .colab-df-convert {\n",
              "      background-color: #3B4455;\n",
              "      fill: #D2E3FC;\n",
              "    }\n",
              "\n",
              "    [theme=dark] .colab-df-convert:hover {\n",
              "      background-color: #434B5C;\n",
              "      box-shadow: 0px 1px 3px 1px rgba(0, 0, 0, 0.15);\n",
              "      filter: drop-shadow(0px 1px 2px rgba(0, 0, 0, 0.3));\n",
              "      fill: #FFFFFF;\n",
              "    }\n",
              "  </style>\n",
              "\n",
              "    <script>\n",
              "      const buttonEl =\n",
              "        document.querySelector('#df-fc1feac7-6e9a-4a61-a276-3f7da8ad0672 button.colab-df-convert');\n",
              "      buttonEl.style.display =\n",
              "        google.colab.kernel.accessAllowed ? 'block' : 'none';\n",
              "\n",
              "      async function convertToInteractive(key) {\n",
              "        const element = document.querySelector('#df-fc1feac7-6e9a-4a61-a276-3f7da8ad0672');\n",
              "        const dataTable =\n",
              "          await google.colab.kernel.invokeFunction('convertToInteractive',\n",
              "                                                    [key], {});\n",
              "        if (!dataTable) return;\n",
              "\n",
              "        const docLinkHtml = 'Like what you see? Visit the ' +\n",
              "          '<a target=\"_blank\" href=https://colab.research.google.com/notebooks/data_table.ipynb>data table notebook</a>'\n",
              "          + ' to learn more about interactive tables.';\n",
              "        element.innerHTML = '';\n",
              "        dataTable['output_type'] = 'display_data';\n",
              "        await google.colab.output.renderOutput(dataTable, element);\n",
              "        const docLink = document.createElement('div');\n",
              "        docLink.innerHTML = docLinkHtml;\n",
              "        element.appendChild(docLink);\n",
              "      }\n",
              "    </script>\n",
              "  </div>\n",
              "\n",
              "\n",
              "<div id=\"df-ce0d7864-2396-438c-a2e6-26c8dd25b25d\">\n",
              "  <button class=\"colab-df-quickchart\" onclick=\"quickchart('df-ce0d7864-2396-438c-a2e6-26c8dd25b25d')\"\n",
              "            title=\"Suggest charts\"\n",
              "            style=\"display:none;\">\n",
              "\n",
              "<svg xmlns=\"http://www.w3.org/2000/svg\" height=\"24px\"viewBox=\"0 0 24 24\"\n",
              "     width=\"24px\">\n",
              "    <g>\n",
              "        <path d=\"M19 3H5c-1.1 0-2 .9-2 2v14c0 1.1.9 2 2 2h14c1.1 0 2-.9 2-2V5c0-1.1-.9-2-2-2zM9 17H7v-7h2v7zm4 0h-2V7h2v10zm4 0h-2v-4h2v4z\"/>\n",
              "    </g>\n",
              "</svg>\n",
              "  </button>\n",
              "\n",
              "<style>\n",
              "  .colab-df-quickchart {\n",
              "      --bg-color: #E8F0FE;\n",
              "      --fill-color: #1967D2;\n",
              "      --hover-bg-color: #E2EBFA;\n",
              "      --hover-fill-color: #174EA6;\n",
              "      --disabled-fill-color: #AAA;\n",
              "      --disabled-bg-color: #DDD;\n",
              "  }\n",
              "\n",
              "  [theme=dark] .colab-df-quickchart {\n",
              "      --bg-color: #3B4455;\n",
              "      --fill-color: #D2E3FC;\n",
              "      --hover-bg-color: #434B5C;\n",
              "      --hover-fill-color: #FFFFFF;\n",
              "      --disabled-bg-color: #3B4455;\n",
              "      --disabled-fill-color: #666;\n",
              "  }\n",
              "\n",
              "  .colab-df-quickchart {\n",
              "    background-color: var(--bg-color);\n",
              "    border: none;\n",
              "    border-radius: 50%;\n",
              "    cursor: pointer;\n",
              "    display: none;\n",
              "    fill: var(--fill-color);\n",
              "    height: 32px;\n",
              "    padding: 0;\n",
              "    width: 32px;\n",
              "  }\n",
              "\n",
              "  .colab-df-quickchart:hover {\n",
              "    background-color: var(--hover-bg-color);\n",
              "    box-shadow: 0 1px 2px rgba(60, 64, 67, 0.3), 0 1px 3px 1px rgba(60, 64, 67, 0.15);\n",
              "    fill: var(--button-hover-fill-color);\n",
              "  }\n",
              "\n",
              "  .colab-df-quickchart-complete:disabled,\n",
              "  .colab-df-quickchart-complete:disabled:hover {\n",
              "    background-color: var(--disabled-bg-color);\n",
              "    fill: var(--disabled-fill-color);\n",
              "    box-shadow: none;\n",
              "  }\n",
              "\n",
              "  .colab-df-spinner {\n",
              "    border: 2px solid var(--fill-color);\n",
              "    border-color: transparent;\n",
              "    border-bottom-color: var(--fill-color);\n",
              "    animation:\n",
              "      spin 1s steps(1) infinite;\n",
              "  }\n",
              "\n",
              "  @keyframes spin {\n",
              "    0% {\n",
              "      border-color: transparent;\n",
              "      border-bottom-color: var(--fill-color);\n",
              "      border-left-color: var(--fill-color);\n",
              "    }\n",
              "    20% {\n",
              "      border-color: transparent;\n",
              "      border-left-color: var(--fill-color);\n",
              "      border-top-color: var(--fill-color);\n",
              "    }\n",
              "    30% {\n",
              "      border-color: transparent;\n",
              "      border-left-color: var(--fill-color);\n",
              "      border-top-color: var(--fill-color);\n",
              "      border-right-color: var(--fill-color);\n",
              "    }\n",
              "    40% {\n",
              "      border-color: transparent;\n",
              "      border-right-color: var(--fill-color);\n",
              "      border-top-color: var(--fill-color);\n",
              "    }\n",
              "    60% {\n",
              "      border-color: transparent;\n",
              "      border-right-color: var(--fill-color);\n",
              "    }\n",
              "    80% {\n",
              "      border-color: transparent;\n",
              "      border-right-color: var(--fill-color);\n",
              "      border-bottom-color: var(--fill-color);\n",
              "    }\n",
              "    90% {\n",
              "      border-color: transparent;\n",
              "      border-bottom-color: var(--fill-color);\n",
              "    }\n",
              "  }\n",
              "</style>\n",
              "\n",
              "  <script>\n",
              "    async function quickchart(key) {\n",
              "      const quickchartButtonEl =\n",
              "        document.querySelector('#' + key + ' button');\n",
              "      quickchartButtonEl.disabled = true;  // To prevent multiple clicks.\n",
              "      quickchartButtonEl.classList.add('colab-df-spinner');\n",
              "      try {\n",
              "        const charts = await google.colab.kernel.invokeFunction(\n",
              "            'suggestCharts', [key], {});\n",
              "      } catch (error) {\n",
              "        console.error('Error during call to suggestCharts:', error);\n",
              "      }\n",
              "      quickchartButtonEl.classList.remove('colab-df-spinner');\n",
              "      quickchartButtonEl.classList.add('colab-df-quickchart-complete');\n",
              "    }\n",
              "    (() => {\n",
              "      let quickchartButtonEl =\n",
              "        document.querySelector('#df-ce0d7864-2396-438c-a2e6-26c8dd25b25d button');\n",
              "      quickchartButtonEl.style.display =\n",
              "        google.colab.kernel.accessAllowed ? 'block' : 'none';\n",
              "    })();\n",
              "  </script>\n",
              "</div>\n",
              "\n",
              "    </div>\n",
              "  </div>\n"
            ],
            "application/vnd.google.colaboratory.intrinsic+json": {
              "type": "dataframe",
              "variable_name": "df",
              "summary": "{\n  \"name\": \"df\",\n  \"rows\": 1000,\n  \"fields\": [\n    {\n      \"column\": \"Name\",\n      \"properties\": {\n        \"dtype\": \"category\",\n        \"num_unique_values\": 20,\n        \"samples\": [\n          \"Rob Walton\",\n          \"Francoise Bettencourt Meyers\",\n          \"Charles Koch\"\n        ],\n        \"semantic_type\": \"\",\n        \"description\": \"\"\n      }\n    },\n    {\n      \"column\": \"Country\",\n      \"properties\": {\n        \"dtype\": \"category\",\n        \"num_unique_values\": 5,\n        \"samples\": [\n          \"USA\",\n          \"India\",\n          \"France\"\n        ],\n        \"semantic_type\": \"\",\n        \"description\": \"\"\n      }\n    },\n    {\n      \"column\": \"Industry\",\n      \"properties\": {\n        \"dtype\": \"category\",\n        \"num_unique_values\": 10,\n        \"samples\": [\n          \"Petrochemicals\",\n          \"Automotive\",\n          \"Cosmetics\"\n        ],\n        \"semantic_type\": \"\",\n        \"description\": \"\"\n      }\n    },\n    {\n      \"column\": \"Net Worth (in billions)\",\n      \"properties\": {\n        \"dtype\": \"number\",\n        \"std\": 56.7960617861972,\n        \"min\": 1.57,\n        \"max\": 199.24,\n        \"num_unique_values\": 982,\n        \"samples\": [\n          108.88,\n          19.47,\n          22.0\n        ],\n        \"semantic_type\": \"\",\n        \"description\": \"\"\n      }\n    },\n    {\n      \"column\": \"Company\",\n      \"properties\": {\n        \"dtype\": \"category\",\n        \"num_unique_values\": 15,\n        \"samples\": [\n          \"LVMH\",\n          \"Facebook\",\n          \"Walmart\"\n        ],\n        \"semantic_type\": \"\",\n        \"description\": \"\"\n      }\n    }\n  ]\n}"
            }
          },
          "metadata": {},
          "execution_count": 11
        }
      ],
      "source": [
        "df.head()"
      ]
    },
    {
      "cell_type": "markdown",
      "metadata": {
        "id": "s0cVa6M1Awag"
      },
      "source": [
        "### Perform descriptive statistics"
      ]
    },
    {
      "cell_type": "code",
      "execution_count": 12,
      "metadata": {
        "id": "PLCUjxS2Awag",
        "outputId": "0d521078-be22-490b-aa1c-f36bfc74c4ef",
        "colab": {
          "base_uri": "https://localhost:8080/",
          "height": 300
        }
      },
      "outputs": [
        {
          "output_type": "execute_result",
          "data": {
            "text/plain": [
              "       Net Worth (in billions)\n",
              "count              1000.000000\n",
              "mean                102.616270\n",
              "std                  56.796062\n",
              "min                   1.570000\n",
              "25%                  54.960000\n",
              "50%                 103.365000\n",
              "75%                 151.912500\n",
              "max                 199.240000"
            ],
            "text/html": [
              "\n",
              "  <div id=\"df-400eb04b-1799-450a-ab61-216386a21b73\" class=\"colab-df-container\">\n",
              "    <div>\n",
              "<style scoped>\n",
              "    .dataframe tbody tr th:only-of-type {\n",
              "        vertical-align: middle;\n",
              "    }\n",
              "\n",
              "    .dataframe tbody tr th {\n",
              "        vertical-align: top;\n",
              "    }\n",
              "\n",
              "    .dataframe thead th {\n",
              "        text-align: right;\n",
              "    }\n",
              "</style>\n",
              "<table border=\"1\" class=\"dataframe\">\n",
              "  <thead>\n",
              "    <tr style=\"text-align: right;\">\n",
              "      <th></th>\n",
              "      <th>Net Worth (in billions)</th>\n",
              "    </tr>\n",
              "  </thead>\n",
              "  <tbody>\n",
              "    <tr>\n",
              "      <th>count</th>\n",
              "      <td>1000.000000</td>\n",
              "    </tr>\n",
              "    <tr>\n",
              "      <th>mean</th>\n",
              "      <td>102.616270</td>\n",
              "    </tr>\n",
              "    <tr>\n",
              "      <th>std</th>\n",
              "      <td>56.796062</td>\n",
              "    </tr>\n",
              "    <tr>\n",
              "      <th>min</th>\n",
              "      <td>1.570000</td>\n",
              "    </tr>\n",
              "    <tr>\n",
              "      <th>25%</th>\n",
              "      <td>54.960000</td>\n",
              "    </tr>\n",
              "    <tr>\n",
              "      <th>50%</th>\n",
              "      <td>103.365000</td>\n",
              "    </tr>\n",
              "    <tr>\n",
              "      <th>75%</th>\n",
              "      <td>151.912500</td>\n",
              "    </tr>\n",
              "    <tr>\n",
              "      <th>max</th>\n",
              "      <td>199.240000</td>\n",
              "    </tr>\n",
              "  </tbody>\n",
              "</table>\n",
              "</div>\n",
              "    <div class=\"colab-df-buttons\">\n",
              "\n",
              "  <div class=\"colab-df-container\">\n",
              "    <button class=\"colab-df-convert\" onclick=\"convertToInteractive('df-400eb04b-1799-450a-ab61-216386a21b73')\"\n",
              "            title=\"Convert this dataframe to an interactive table.\"\n",
              "            style=\"display:none;\">\n",
              "\n",
              "  <svg xmlns=\"http://www.w3.org/2000/svg\" height=\"24px\" viewBox=\"0 -960 960 960\">\n",
              "    <path d=\"M120-120v-720h720v720H120Zm60-500h600v-160H180v160Zm220 220h160v-160H400v160Zm0 220h160v-160H400v160ZM180-400h160v-160H180v160Zm440 0h160v-160H620v160ZM180-180h160v-160H180v160Zm440 0h160v-160H620v160Z\"/>\n",
              "  </svg>\n",
              "    </button>\n",
              "\n",
              "  <style>\n",
              "    .colab-df-container {\n",
              "      display:flex;\n",
              "      gap: 12px;\n",
              "    }\n",
              "\n",
              "    .colab-df-convert {\n",
              "      background-color: #E8F0FE;\n",
              "      border: none;\n",
              "      border-radius: 50%;\n",
              "      cursor: pointer;\n",
              "      display: none;\n",
              "      fill: #1967D2;\n",
              "      height: 32px;\n",
              "      padding: 0 0 0 0;\n",
              "      width: 32px;\n",
              "    }\n",
              "\n",
              "    .colab-df-convert:hover {\n",
              "      background-color: #E2EBFA;\n",
              "      box-shadow: 0px 1px 2px rgba(60, 64, 67, 0.3), 0px 1px 3px 1px rgba(60, 64, 67, 0.15);\n",
              "      fill: #174EA6;\n",
              "    }\n",
              "\n",
              "    .colab-df-buttons div {\n",
              "      margin-bottom: 4px;\n",
              "    }\n",
              "\n",
              "    [theme=dark] .colab-df-convert {\n",
              "      background-color: #3B4455;\n",
              "      fill: #D2E3FC;\n",
              "    }\n",
              "\n",
              "    [theme=dark] .colab-df-convert:hover {\n",
              "      background-color: #434B5C;\n",
              "      box-shadow: 0px 1px 3px 1px rgba(0, 0, 0, 0.15);\n",
              "      filter: drop-shadow(0px 1px 2px rgba(0, 0, 0, 0.3));\n",
              "      fill: #FFFFFF;\n",
              "    }\n",
              "  </style>\n",
              "\n",
              "    <script>\n",
              "      const buttonEl =\n",
              "        document.querySelector('#df-400eb04b-1799-450a-ab61-216386a21b73 button.colab-df-convert');\n",
              "      buttonEl.style.display =\n",
              "        google.colab.kernel.accessAllowed ? 'block' : 'none';\n",
              "\n",
              "      async function convertToInteractive(key) {\n",
              "        const element = document.querySelector('#df-400eb04b-1799-450a-ab61-216386a21b73');\n",
              "        const dataTable =\n",
              "          await google.colab.kernel.invokeFunction('convertToInteractive',\n",
              "                                                    [key], {});\n",
              "        if (!dataTable) return;\n",
              "\n",
              "        const docLinkHtml = 'Like what you see? Visit the ' +\n",
              "          '<a target=\"_blank\" href=https://colab.research.google.com/notebooks/data_table.ipynb>data table notebook</a>'\n",
              "          + ' to learn more about interactive tables.';\n",
              "        element.innerHTML = '';\n",
              "        dataTable['output_type'] = 'display_data';\n",
              "        await google.colab.output.renderOutput(dataTable, element);\n",
              "        const docLink = document.createElement('div');\n",
              "        docLink.innerHTML = docLinkHtml;\n",
              "        element.appendChild(docLink);\n",
              "      }\n",
              "    </script>\n",
              "  </div>\n",
              "\n",
              "\n",
              "<div id=\"df-2aca1076-0657-4089-9ede-49da8a73467a\">\n",
              "  <button class=\"colab-df-quickchart\" onclick=\"quickchart('df-2aca1076-0657-4089-9ede-49da8a73467a')\"\n",
              "            title=\"Suggest charts\"\n",
              "            style=\"display:none;\">\n",
              "\n",
              "<svg xmlns=\"http://www.w3.org/2000/svg\" height=\"24px\"viewBox=\"0 0 24 24\"\n",
              "     width=\"24px\">\n",
              "    <g>\n",
              "        <path d=\"M19 3H5c-1.1 0-2 .9-2 2v14c0 1.1.9 2 2 2h14c1.1 0 2-.9 2-2V5c0-1.1-.9-2-2-2zM9 17H7v-7h2v7zm4 0h-2V7h2v10zm4 0h-2v-4h2v4z\"/>\n",
              "    </g>\n",
              "</svg>\n",
              "  </button>\n",
              "\n",
              "<style>\n",
              "  .colab-df-quickchart {\n",
              "      --bg-color: #E8F0FE;\n",
              "      --fill-color: #1967D2;\n",
              "      --hover-bg-color: #E2EBFA;\n",
              "      --hover-fill-color: #174EA6;\n",
              "      --disabled-fill-color: #AAA;\n",
              "      --disabled-bg-color: #DDD;\n",
              "  }\n",
              "\n",
              "  [theme=dark] .colab-df-quickchart {\n",
              "      --bg-color: #3B4455;\n",
              "      --fill-color: #D2E3FC;\n",
              "      --hover-bg-color: #434B5C;\n",
              "      --hover-fill-color: #FFFFFF;\n",
              "      --disabled-bg-color: #3B4455;\n",
              "      --disabled-fill-color: #666;\n",
              "  }\n",
              "\n",
              "  .colab-df-quickchart {\n",
              "    background-color: var(--bg-color);\n",
              "    border: none;\n",
              "    border-radius: 50%;\n",
              "    cursor: pointer;\n",
              "    display: none;\n",
              "    fill: var(--fill-color);\n",
              "    height: 32px;\n",
              "    padding: 0;\n",
              "    width: 32px;\n",
              "  }\n",
              "\n",
              "  .colab-df-quickchart:hover {\n",
              "    background-color: var(--hover-bg-color);\n",
              "    box-shadow: 0 1px 2px rgba(60, 64, 67, 0.3), 0 1px 3px 1px rgba(60, 64, 67, 0.15);\n",
              "    fill: var(--button-hover-fill-color);\n",
              "  }\n",
              "\n",
              "  .colab-df-quickchart-complete:disabled,\n",
              "  .colab-df-quickchart-complete:disabled:hover {\n",
              "    background-color: var(--disabled-bg-color);\n",
              "    fill: var(--disabled-fill-color);\n",
              "    box-shadow: none;\n",
              "  }\n",
              "\n",
              "  .colab-df-spinner {\n",
              "    border: 2px solid var(--fill-color);\n",
              "    border-color: transparent;\n",
              "    border-bottom-color: var(--fill-color);\n",
              "    animation:\n",
              "      spin 1s steps(1) infinite;\n",
              "  }\n",
              "\n",
              "  @keyframes spin {\n",
              "    0% {\n",
              "      border-color: transparent;\n",
              "      border-bottom-color: var(--fill-color);\n",
              "      border-left-color: var(--fill-color);\n",
              "    }\n",
              "    20% {\n",
              "      border-color: transparent;\n",
              "      border-left-color: var(--fill-color);\n",
              "      border-top-color: var(--fill-color);\n",
              "    }\n",
              "    30% {\n",
              "      border-color: transparent;\n",
              "      border-left-color: var(--fill-color);\n",
              "      border-top-color: var(--fill-color);\n",
              "      border-right-color: var(--fill-color);\n",
              "    }\n",
              "    40% {\n",
              "      border-color: transparent;\n",
              "      border-right-color: var(--fill-color);\n",
              "      border-top-color: var(--fill-color);\n",
              "    }\n",
              "    60% {\n",
              "      border-color: transparent;\n",
              "      border-right-color: var(--fill-color);\n",
              "    }\n",
              "    80% {\n",
              "      border-color: transparent;\n",
              "      border-right-color: var(--fill-color);\n",
              "      border-bottom-color: var(--fill-color);\n",
              "    }\n",
              "    90% {\n",
              "      border-color: transparent;\n",
              "      border-bottom-color: var(--fill-color);\n",
              "    }\n",
              "  }\n",
              "</style>\n",
              "\n",
              "  <script>\n",
              "    async function quickchart(key) {\n",
              "      const quickchartButtonEl =\n",
              "        document.querySelector('#' + key + ' button');\n",
              "      quickchartButtonEl.disabled = true;  // To prevent multiple clicks.\n",
              "      quickchartButtonEl.classList.add('colab-df-spinner');\n",
              "      try {\n",
              "        const charts = await google.colab.kernel.invokeFunction(\n",
              "            'suggestCharts', [key], {});\n",
              "      } catch (error) {\n",
              "        console.error('Error during call to suggestCharts:', error);\n",
              "      }\n",
              "      quickchartButtonEl.classList.remove('colab-df-spinner');\n",
              "      quickchartButtonEl.classList.add('colab-df-quickchart-complete');\n",
              "    }\n",
              "    (() => {\n",
              "      let quickchartButtonEl =\n",
              "        document.querySelector('#df-2aca1076-0657-4089-9ede-49da8a73467a button');\n",
              "      quickchartButtonEl.style.display =\n",
              "        google.colab.kernel.accessAllowed ? 'block' : 'none';\n",
              "    })();\n",
              "  </script>\n",
              "</div>\n",
              "\n",
              "    </div>\n",
              "  </div>\n"
            ],
            "application/vnd.google.colaboratory.intrinsic+json": {
              "type": "dataframe",
              "summary": "{\n  \"name\": \"get_descriptive_statistics(df)\",\n  \"rows\": 8,\n  \"fields\": [\n    {\n      \"column\": \"Net Worth (in billions)\",\n      \"properties\": {\n        \"dtype\": \"number\",\n        \"std\": 325.4519407757658,\n        \"min\": 1.57,\n        \"max\": 1000.0,\n        \"num_unique_values\": 8,\n        \"samples\": [\n          102.61626999999999,\n          103.36500000000001,\n          1000.0\n        ],\n        \"semantic_type\": \"\",\n        \"description\": \"\"\n      }\n    }\n  ]\n}"
            }
          },
          "metadata": {},
          "execution_count": 12
        }
      ],
      "source": [
        "# Perform descriptive statistics\n",
        "get_descriptive_statistics(df)"
      ]
    },
    {
      "cell_type": "markdown",
      "metadata": {
        "id": "5SjJZtH8Awag"
      },
      "source": [
        "### Group by Industry and calculate mean net worth"
      ]
    },
    {
      "cell_type": "code",
      "execution_count": 13,
      "metadata": {
        "id": "gjwNtRuPAwah",
        "outputId": "f8d51989-3c40-4373-c2b1-7f9706307e9f",
        "colab": {
          "base_uri": "https://localhost:8080/"
        }
      },
      "outputs": [
        {
          "output_type": "stream",
          "name": "stdout",
          "text": [
            "Industry\n",
            "Automotive             97.629535\n",
            "Cosmetics              92.318431\n",
            "Fashion                88.407273\n",
            "Finance               102.168400\n",
            "Manufacturing         105.731170\n",
            "Media                 100.579825\n",
            "Petrochemicals        100.837442\n",
            "Retail                107.618848\n",
            "Technology            101.640000\n",
            "Telecommunications    113.265490\n",
            "Name: Net Worth (in billions), dtype: float64\n"
          ]
        }
      ],
      "source": [
        "industry_avg = get_industry_avg_net_worth(df)\n",
        "print(industry_avg)"
      ]
    },
    {
      "cell_type": "markdown",
      "metadata": {
        "id": "x95ssD0AAwah"
      },
      "source": [
        "### Skewness and kurtosis of Net Worth distribution"
      ]
    },
    {
      "cell_type": "code",
      "execution_count": 14,
      "metadata": {
        "id": "_Kqbq7VYAwah",
        "outputId": "d9facd65-2056-4d1f-942b-696cc9dc3d97",
        "colab": {
          "base_uri": "https://localhost:8080/"
        }
      },
      "outputs": [
        {
          "output_type": "stream",
          "name": "stdout",
          "text": [
            "Skewness: -0.008365801815813293 Kurtosis: -1.1691633223750484\n",
            "\n",
            "Skewness of Net Worth Distribution: -0.008365801815813293\n",
            "Kurtosis of Net Worth Distribution: -1.1691633223750484\n"
          ]
        }
      ],
      "source": [
        "net_worth_skewness, net_worth_kurtosis = calculate_skewness_kurtosis(df)\n",
        "print(f\"\\nSkewness of Net Worth Distribution: {net_worth_skewness}\")\n",
        "print(f\"Kurtosis of Net Worth Distribution: {net_worth_kurtosis}\")"
      ]
    },
    {
      "cell_type": "markdown",
      "metadata": {
        "id": "tACduC6OAwah"
      },
      "source": [
        "The dataset consists of 1,000 individuals, with the average net worth being approximately $102.6 billion. The net worth values range from $1.57 billion to $199.24 billion, with a relatively normal distribution (Skewness: -0.008). The negative kurtosis (-1.17) indicates that the distribution is flatter than a normal distribution, with fewer extreme values."
      ]
    },
    {
      "cell_type": "markdown",
      "metadata": {
        "id": "AbweZ1ljAwah"
      },
      "source": [
        "### Mean Net Worth (in Billions) Across Different Industries"
      ]
    },
    {
      "cell_type": "code",
      "execution_count": 15,
      "metadata": {
        "id": "tlFrrYjRAwah",
        "outputId": "85f74065-9858-4769-fdc8-a25dca964546",
        "colab": {
          "base_uri": "https://localhost:8080/",
          "height": 692
        }
      },
      "outputs": [
        {
          "output_type": "display_data",
          "data": {
            "text/plain": [
              "<Figure size 1000x600 with 1 Axes>"
            ],
            "image/png": "[encoded data removed]"
          },
          "metadata": {}
        }
      ],
      "source": [
        "plot_industry_avg_net_worth(industry_avg)"
      ]
    },
    {
      "cell_type": "markdown",
      "metadata": {
        "id": "b2vv7xWrAwah"
      },
      "source": [
        "### Net Worth Distribution by Industry (Box Plot: Median, Quartiles, and Outliers)"
      ]
    },
    {
      "cell_type": "code",
      "execution_count": 16,
      "metadata": {
        "id": "O84SXi2lAwai",
        "outputId": "d00b4660-6393-4c26-d7a5-348a81db38a5",
        "colab": {
          "base_uri": "https://localhost:8080/",
          "height": 692
        }
      },
      "outputs": [
        {
          "output_type": "display_data",
          "data": {
            "text/plain": [
              "<Figure size 1000x600 with 1 Axes>"
            ],
            "image/png": "[encoded data removed]"
          },
          "metadata": {}
        }
      ],
      "source": [
        "plot_net_worth_distribution_by_industry(df)"
      ]
    },
    {
      "cell_type": "markdown",
      "metadata": {
        "id": "NKcJE8WgAwai"
      },
      "source": [
        "Overall, Telecommunications and Retail industries dominate in terms of average net worth, while the Fashion and Cosmetics industries fall on the lower end of the spectrum. The skewness and kurtosis metrics suggest that the net worth distribution is relatively symmetrical and lacks extreme outliers."
      ]
    }
  ],
  "metadata": {
    "kernelspec": {
      "display_name": "Python 3",
      "language": "python",
      "name": "python3"
    },
    "language_info": {
      "codemirror_mode": {
        "name": "ipython",
        "version": 3
      },
      "file_extension": ".py",
      "mimetype": "text/x-python",
      "name": "python",
      "nbconvert_exporter": "python",
      "pygments_lexer": "ipython3",
      "version": "3.11.7"
    },
    "colab": {
      "provenance": [],
      "include_colab_link": true
    }
  },
  "nbformat": 4,
  "nbformat_minor": 0
}